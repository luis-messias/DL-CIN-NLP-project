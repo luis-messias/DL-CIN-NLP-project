{
 "cells": [
  {
   "cell_type": "markdown",
   "metadata": {},
   "source": [
    "# Ratting prediction using SVM and BOW"
   ]
  },
  {
   "cell_type": "code",
   "execution_count": 1,
   "metadata": {},
   "outputs": [],
   "source": [
    "import pandas as pd\n",
    "import sklearn"
   ]
  },
  {
   "cell_type": "markdown",
   "metadata": {},
   "source": [
    "## Importing Train and Validation data"
   ]
  },
  {
   "cell_type": "code",
   "execution_count": 15,
   "metadata": {},
   "outputs": [
    {
     "name": "stdout",
     "output_type": "stream",
     "text": [
      "       Unnamed: 0  rating                                           textFull\n",
      "0           66285       3  proprietary charging u outlet opened box saw p...\n",
      "1           34581       2  wanted love phone maybe mine lemon switched ph...\n",
      "2           45104       1  must got lucky unlucky update original phone i...\n",
      "3           13902       1  phone bought phone month ago really hate touch...\n",
      "4            9448       5                        great service great product\n",
      "...           ...     ...                                                ...\n",
      "54383       13065       1  started issue phone getting worse irritating c...\n",
      "54384       58857       5  perfect known wa reconditioned look act perfec...\n",
      "54385        9770       1  sell item outside united state sold phone use ...\n",
      "54386        5673       5                                     five star love\n",
      "54387       23391       5       five star phone excellent condition unlocked\n",
      "\n",
      "[54388 rows x 3 columns]\n"
     ]
    }
   ],
   "source": [
    "trainDataSet = pd.read_csv('../Kaggle-dataset/pre-processed/trainDataset.csv',encoding=\"latin1\")\n",
    "valDataSet = pd.read_csv('../Kaggle-dataset/pre-processed/valDataset.csv',encoding=\"latin1\")\n",
    "testDataSet = pd.read_csv('../Kaggle-dataset/pre-processed/testDataset.csv',encoding=\"latin1\")\n",
    "\n",
    "print(trainDataSet)"
   ]
  },
  {
   "cell_type": "code",
   "execution_count": 6,
   "metadata": {},
   "outputs": [
    {
     "name": "stdout",
     "output_type": "stream",
     "text": [
      "Training BOW\n",
      "Training SVM\n",
      "[LibSVM].........*....*\n",
      "optimization finished, #iter = 13057\n",
      "obj = -4792.929146, rho = -0.377790\n",
      "nSV = 8194, nBSV = 4161\n",
      ".......*...*\n",
      "optimization finished, #iter = 10358\n",
      "obj = -4666.272368, rho = -0.286240\n",
      "nSV = 7730, nBSV = 4570\n",
      ".......*..*\n",
      "optimization finished, #iter = 9614\n",
      "obj = -4294.126361, rho = 0.053515\n",
      "nSV = 7577, nBSV = 4258\n",
      "..........*...*\n",
      "optimization finished, #iter = 13540\n",
      "obj = -5819.207214, rho = 0.407638\n",
      "nSV = 10647, nBSV = 6118\n",
      "....*.*\n",
      "optimization finished, #iter = 5902\n",
      "obj = -3840.086882, rho = 0.050849\n",
      "nSV = 5836, nBSV = 4108\n",
      ".....*..*\n",
      "optimization finished, #iter = 7037\n",
      "obj = -3248.988116, rho = 0.349425\n",
      "nSV = 5692, nBSV = 3340\n",
      "........*...*\n",
      "optimization finished, #iter = 11148\n",
      "obj = -3509.222321, rho = 0.632102\n",
      "nSV = 7347, nBSV = 3423\n",
      "......*..*\n",
      "optimization finished, #iter = 8547\n",
      "obj = -4822.798403, rho = 0.305709\n",
      "nSV = 7456, nBSV = 4992\n",
      "..........*...*\n",
      "optimization finished, #iter = 13157\n",
      "obj = -4943.465848, rho = 0.596939\n",
      "nSV = 9148, nBSV = 4782\n",
      "....................*........*\n",
      "optimization finished, #iter = 28645\n",
      "obj = -10324.155247, rho = 0.454724\n",
      "nSV = 16505, nBSV = 8999\n",
      "Total nSV = 32062\n"
     ]
    }
   ],
   "source": [
    "def trainModel(X_train, Y_train):\n",
    "    bow = sklearn.feature_extraction.text.CountVectorizer()\n",
    "    svm = sklearn.svm.SVC(verbose=True)\n",
    "\n",
    "    print(\"Training BOW\")\n",
    "    X_train = bow.fit_transform(X_train)\n",
    "    print(\"Training SVM\")\n",
    "    svm.fit(X_train, Y_train)\n",
    "\n",
    "    return bow, svm\n",
    "\n",
    "\n",
    "bow, svm = trainModel(trainDataSet[\"textFull\"], trainDataSet[\"rating\"])"
   ]
  },
  {
   "cell_type": "markdown",
   "metadata": {},
   "source": [
    "## Save Model"
   ]
  },
  {
   "cell_type": "code",
   "execution_count": 7,
   "metadata": {},
   "outputs": [],
   "source": [
    "import pickle\n",
    "with open('bow-svm/bow_model.pkl','wb') as f:\n",
    "    pickle.dump(bow,f)\n",
    "with open('bow-svm/svm_model.pkl','wb') as f:\n",
    "    pickle.dump(svm,f)"
   ]
  },
  {
   "cell_type": "markdown",
   "metadata": {},
   "source": [
    "# Scores"
   ]
  },
  {
   "cell_type": "code",
   "execution_count": 16,
   "metadata": {},
   "outputs": [],
   "source": [
    "def predict(bow, svm, X):\n",
    "    X_bow = bow.transform(X)\n",
    "    return svm.predict(X_bow)\n",
    "\n",
    "Y_val = valDataSet[\"rating\"]\n",
    "Y_val_pred = predict(bow, svm, valDataSet[\"textFull\"])\n",
    "Y_test = testDataSet[\"rating\"]\n",
    "Y_test_pred = predict(bow, svm, testDataSet[\"textFull\"])\n"
   ]
  },
  {
   "cell_type": "code",
   "execution_count": 19,
   "metadata": {},
   "outputs": [
    {
     "name": "stdout",
     "output_type": "stream",
     "text": [
      "Val\n",
      "\tAcuracia:  0.7429517038489826\n",
      "\tF1:  [0.75640665 0.21731749 0.32207792 0.28019324 0.85714286]\n",
      "Test\n",
      "\tAcuracia:  0.7448529411764706\n",
      "\tF1:  [0.74854325 0.17073171 0.2952183  0.32727273 0.85879797]\n"
     ]
    }
   ],
   "source": [
    "acc_val = sklearn.metrics.accuracy_score(Y_val, Y_val_pred)\n",
    "f1_val = sklearn.metrics.f1_score(Y_val, Y_val_pred, average=None)\n",
    "acc_test = sklearn.metrics.accuracy_score(Y_test, Y_test_pred)\n",
    "f1_test = sklearn.metrics.f1_score(Y_test, Y_test_pred, average=None)\n",
    "\n",
    "print(\"Val\")\n",
    "print(\"\\tAcuracia: \", acc_val)\n",
    "print(\"\\tF1: \", f1_val)\n",
    "\n",
    "print(\"Test\")\n",
    "print(\"\\tAcuracia: \", acc_test)\n",
    "print(\"\\tF1: \", f1_test)"
   ]
  },
  {
   "cell_type": "code",
   "execution_count": 32,
   "metadata": {},
   "outputs": [
    {
     "name": "stdout",
     "output_type": "stream",
     "text": [
      "please read amazing phone wish couldve used really research phone wa excited purchase made amazon unfortunately next day received phone thats nightmare started phone looked brand new sealed packaging like would purchase store example literally use scissors cut packing even get provided book cut complete different package even touch phone went proper procedure activating phone purchasing bundle plan use phone wa completely done programming customer service rep tell make call error message stated phone authenticated happened february 27th today march 3 2014 learned return phone amazon tthis review customer beware purpose amazon verizon wireless excellent customer service tried hard fix issue crazy part learned tonight phone purchased actually hacked never able use granted wa upset almost week late night verizon rep wa getting old trying million thing repeatedly try fix phone tonight verizon rep told straight maam need return phone somebody ha hacked phone resold whatever site bought wa shocked told exactly packaging wa literally argued thought wa nut wa telling truth even promised full bundle applied new phone get contacted amazon amazing refunded money sent shipping label easy return always shop online first time anything crazy ha happened worth mentioning customer know\n",
      "Original:  5\n",
      "Predict:  5\n"
     ]
    }
   ],
   "source": [
    "example = 33\n",
    "print(testDataSet.iloc[example][\"textFull\"])\n",
    "print( \"Original: \", Y_test[example])\n",
    "print(\"Predict: \", Y_test_pred[example])"
   ]
  }
 ],
 "metadata": {
  "kernelspec": {
   "display_name": "webScrapping",
   "language": "python",
   "name": "python3"
  },
  "language_info": {
   "codemirror_mode": {
    "name": "ipython",
    "version": 3
   },
   "file_extension": ".py",
   "mimetype": "text/x-python",
   "name": "python",
   "nbconvert_exporter": "python",
   "pygments_lexer": "ipython3",
   "version": "3.13.1"
  }
 },
 "nbformat": 4,
 "nbformat_minor": 2
}

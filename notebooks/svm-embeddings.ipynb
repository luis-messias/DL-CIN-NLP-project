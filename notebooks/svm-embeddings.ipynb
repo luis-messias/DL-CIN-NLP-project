{
 "cells": [
  {
   "cell_type": "markdown",
   "metadata": {},
   "source": [
    "# Ratting prediction using SVM and Embeddings"
   ]
  },
  {
   "cell_type": "code",
   "execution_count": 22,
   "metadata": {},
   "outputs": [],
   "source": [
    "import pandas as pd\n",
    "import sklearn\n",
    "import spacy"
   ]
  },
  {
   "cell_type": "markdown",
   "metadata": {},
   "source": [
    "## Importing Train and Validation data"
   ]
  },
  {
   "cell_type": "code",
   "execution_count": 7,
   "metadata": {},
   "outputs": [
    {
     "name": "stdout",
     "output_type": "stream",
     "text": [
      "       Unnamed: 0  rating                                           textFull\n",
      "0           66285       3  proprietary charging u outlet opened box saw p...\n",
      "1           34581       2  wanted love phone maybe mine lemon switched ph...\n",
      "2           45104       1  must got lucky unlucky update original phone i...\n",
      "3           13902       1  phone bought phone month ago really hate touch...\n",
      "4            9448       5                        great service great product\n",
      "...           ...     ...                                                ...\n",
      "54383       13065       1  started issue phone getting worse irritating c...\n",
      "54384       58857       5  perfect known wa reconditioned look act perfec...\n",
      "54385        9770       1  sell item outside united state sold phone use ...\n",
      "54386        5673       5                                     five star love\n",
      "54387       23391       5       five star phone excellent condition unlocked\n",
      "\n",
      "[54388 rows x 3 columns]\n"
     ]
    }
   ],
   "source": [
    "trainDataSet = pd.read_csv('../Kaggle-dataset/pre-processed/trainDataset.csv',encoding=\"latin1\")\n",
    "valDataSet = pd.read_csv('../Kaggle-dataset/pre-processed/valDataset.csv',encoding=\"latin1\")\n",
    "testDataSet = pd.read_csv('../Kaggle-dataset/pre-processed/testDataset.csv',encoding=\"latin1\")\n",
    "\n",
    "\n",
    "print(trainDataSet)"
   ]
  },
  {
   "cell_type": "code",
   "execution_count": 24,
   "metadata": {},
   "outputs": [
    {
     "name": "stdout",
     "output_type": "stream",
     "text": [
      "Getting embeddings\n",
      "Training SVM\n",
      "[LibSVM]................*............*\n",
      "optimization finished, #iter = 28530\n",
      "obj = -6070.291640, rho = -0.859662\n",
      "nSV = 7584, nBSV = 5297\n",
      ".......*...*\n",
      "optimization finished, #iter = 10621\n",
      "obj = -6861.650189, rho = -0.876081\n",
      "nSV = 7782, nBSV = 6780\n",
      ".......*..*.*\n",
      "optimization finished, #iter = 10266\n",
      "obj = -8245.153974, rho = -0.596754\n",
      "nSV = 9395, nBSV = 8628\n",
      ".............*...*\n",
      "optimization finished, #iter = 16813\n",
      "obj = -13638.570894, rho = 0.333751\n",
      "nSV = 15733, nBSV = 14172\n",
      "....*.*\n",
      "optimization finished, #iter = 5156\n",
      "obj = -5459.224633, rho = 0.451285\n",
      "nSV = 5967, nBSV = 5569\n",
      ".....*.*\n",
      "optimization finished, #iter = 6158\n",
      "obj = -5466.965406, rho = 0.428156\n",
      "nSV = 6156, nBSV = 5556\n",
      "..............*........*\n",
      "optimization finished, #iter = 22772\n",
      "obj = -6085.166978, rho = 0.905191\n",
      "nSV = 7760, nBSV = 5472\n",
      ".......*..*\n",
      "optimization finished, #iter = 9109\n",
      "obj = -7027.356940, rho = 0.233012\n",
      "nSV = 7828, nBSV = 7039\n",
      "........................*.....................*\n",
      "optimization finished, #iter = 45871\n",
      "obj = -7426.157347, rho = 0.875571\n",
      "nSV = 10050, nBSV = 6246\n",
      "...........................................*............................*\n",
      "optimization finished, #iter = 71330\n",
      "obj = -13201.302154, rho = 0.892647\n",
      "nSV = 16728, nBSV = 11525\n",
      "Total nSV = 37873\n"
     ]
    }
   ],
   "source": [
    "def trainModel(X_train, Y_train):\n",
    "    embedding = spacy.load(\"en_core_web_sm\")\n",
    "    svm = sklearn.svm.SVC(verbose=True)\n",
    "\n",
    "    print(\"Getting embeddings\")\n",
    "    X_train_emb = [embedding(x).vector for x in X_train]\n",
    "    \n",
    "    print(\"Training SVM\")\n",
    "    svm.fit(X_train_emb, Y_train)\n",
    "\n",
    "    return embedding, svm\n",
    "\n",
    "\n",
    "embedding, svm = trainModel(trainDataSet[\"textFull\"], trainDataSet[\"rating\"])"
   ]
  },
  {
   "cell_type": "markdown",
   "metadata": {},
   "source": [
    "## Save Model"
   ]
  },
  {
   "cell_type": "code",
   "execution_count": 25,
   "metadata": {},
   "outputs": [],
   "source": [
    "import pickle\n",
    "with open('embedding-svm/embedding_model.pkl','wb') as f:\n",
    "    pickle.dump(embedding,f)\n",
    "with open('embedding-svm/svm_model.pkl','wb') as f:\n",
    "    pickle.dump(svm,f)"
   ]
  },
  {
   "cell_type": "markdown",
   "metadata": {},
   "source": [
    "# Scores"
   ]
  },
  {
   "cell_type": "code",
   "execution_count": 26,
   "metadata": {},
   "outputs": [],
   "source": [
    "def predict(embedding, svm, X):\n",
    "    X_embedding = [embedding(x).vector for x in X]\n",
    "    return svm.predict(X_embedding)\n",
    "\n",
    "Y_val = valDataSet[\"rating\"]\n",
    "Y_val_pred = predict(embedding, svm, valDataSet[\"textFull\"])\n",
    "Y_test = testDataSet[\"rating\"]\n",
    "Y_test_pred = predict(embedding, svm, testDataSet[\"textFull\"])\n"
   ]
  },
  {
   "cell_type": "code",
   "execution_count": 27,
   "metadata": {},
   "outputs": [
    {
     "name": "stdout",
     "output_type": "stream",
     "text": [
      "Val\n",
      "\tAcuracia:  0.6518754596714881\n",
      "\tF1:  [0.59674389 0.04761905 0.03826087 0.13442325 0.78011332]\n",
      "Test\n",
      "\tAcuracia:  0.659375\n",
      "\tF1:  [0.5943304  0.02083333 0.03743316 0.15555556 0.78945939]\n"
     ]
    }
   ],
   "source": [
    "acc_val = sklearn.metrics.accuracy_score(Y_val, Y_val_pred)\n",
    "f1_val = sklearn.metrics.f1_score(Y_val, Y_val_pred, average=None)\n",
    "acc_test = sklearn.metrics.accuracy_score(Y_test, Y_test_pred)\n",
    "f1_test = sklearn.metrics.f1_score(Y_test, Y_test_pred, average=None)\n",
    "\n",
    "print(\"Val\")\n",
    "print(\"\\tAcuracia: \", acc_val)\n",
    "print(\"\\tF1: \", f1_val)\n",
    "\n",
    "print(\"Test\")\n",
    "print(\"\\tAcuracia: \", acc_test)\n",
    "print(\"\\tF1: \", f1_test)"
   ]
  },
  {
   "cell_type": "code",
   "execution_count": 31,
   "metadata": {},
   "outputs": [
    {
     "name": "stdout",
     "output_type": "stream",
     "text": [
      "please read amazing phone wish couldve used really research phone wa excited purchase made amazon unfortunately next day received phone thats nightmare started phone looked brand new sealed packaging like would purchase store example literally use scissors cut packing even get provided book cut complete different package even touch phone went proper procedure activating phone purchasing bundle plan use phone wa completely done programming customer service rep tell make call error message stated phone authenticated happened february 27th today march 3 2014 learned return phone amazon tthis review customer beware purpose amazon verizon wireless excellent customer service tried hard fix issue crazy part learned tonight phone purchased actually hacked never able use granted wa upset almost week late night verizon rep wa getting old trying million thing repeatedly try fix phone tonight verizon rep told straight maam need return phone somebody ha hacked phone resold whatever site bought wa shocked told exactly packaging wa literally argued thought wa nut wa telling truth even promised full bundle applied new phone get contacted amazon amazing refunded money sent shipping label easy return always shop online first time anything crazy ha happened worth mentioning customer know\n",
      "Original:  5\n",
      "Predict:  1\n"
     ]
    }
   ],
   "source": [
    "example = 33\n",
    "print(testDataSet.iloc[example][\"textFull\"])\n",
    "print( \"Original: \", Y_test[example])\n",
    "print(\"Predict: \", Y_test_pred[example])"
   ]
  }
 ],
 "metadata": {
  "kernelspec": {
   "display_name": "webScrapping",
   "language": "python",
   "name": "python3"
  },
  "language_info": {
   "codemirror_mode": {
    "name": "ipython",
    "version": 3
   },
   "file_extension": ".py",
   "mimetype": "text/x-python",
   "name": "python",
   "nbconvert_exporter": "python",
   "pygments_lexer": "ipython3",
   "version": "3.13.1"
  }
 },
 "nbformat": 4,
 "nbformat_minor": 2
}
